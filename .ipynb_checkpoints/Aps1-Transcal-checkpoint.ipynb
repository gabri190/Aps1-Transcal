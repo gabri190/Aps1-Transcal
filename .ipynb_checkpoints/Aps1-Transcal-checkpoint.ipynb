{
 "cells": [
  {
   "cell_type": "markdown",
   "metadata": {},
   "source": [
    "# APS 1 - TRANSFERÊNCIA DE CALOR"
   ]
  },
  {
   "cell_type": "markdown",
   "metadata": {},
   "source": [
    "## Questao 1"
   ]
  },
  {
   "cell_type": "code",
   "execution_count": 35,
   "metadata": {},
   "outputs": [],
   "source": [
    "#bibs necessarias\n",
    "import matplotlib.pyplot as plt\n",
    "import numpy as np\n",
    "import pandas as pd\n",
    "from math import *"
   ]
  },
  {
   "cell_type": "markdown",
   "metadata": {},
   "source": [
    "## Funcoes importantes"
   ]
  },
  {
   "cell_type": "code",
   "execution_count": 36,
   "metadata": {},
   "outputs": [],
   "source": [
    "#Informaçoes da aleta\n",
    "\n",
    "def perimetro_aleta(e,c):\n",
    "    \n",
    "    return 2*e+2*c\n",
    "\n",
    "def area_aleta(e,c):\n",
    "    \n",
    "    return e*c\n",
    "\n",
    "def calcula_m(h,P,A_tr,k):\n",
    "    return sqrt((h*P)/(A_tr*k))\n",
    "\n",
    "def calcula_M(h,P,A_tr,k,T_amb,T_b):\n",
    "    return sqrt(h*P*k*A_tr)*(T_b-T_amb)\n",
    "\n",
    "def distr_calor_geral (h,P,A_tr,k,L,T_amb,T_b,x):\n",
    "    \n",
    "    m = calcula_m(h,P,A_tr,k)\n",
    "    \n",
    "    a = cosh(m*(L-x))+(h/(m*k))*sinh(m*(L-x))\n",
    "    \n",
    "    b = cosh(m*L)+(h/(m*k))*sinh(m*L)\n",
    "    \n",
    "    div= a/b\n",
    "    \n",
    "    T_l = (T_b-T_amb)*div+ T_amb\n",
    "    \n",
    "    return T_l\n",
    "\n",
    "def transf_calor_geral (h,P,A_tr,k,L,T_amb,T_b) :\n",
    "    \n",
    "    m = calcula_m(h,P,A_tr,k)\n",
    "    M = calcula_M(h,P,A_tr,k,T_amb,T_b)\n",
    "    \n",
    "    a = sinh(m*L) + (h/(m*k))*cosh(m*L)\n",
    "    \n",
    "    b = cosh(m*L) + (h/(m*k))*sinh(m*L)\n",
    "    div=a/b\n",
    "    \n",
    "    return M*(div)\n",
    "\n",
    "def transf_calor_infinita(h,P,A_tr,k,T_amb,T_b):\n",
    "    \n",
    "    M = calcula_M(h,P,A_tr,k,T_amb,T_b)\n",
    "    \n",
    "    return M\n",
    "\n",
    "def efetividade (h,P,A_tr,k,L,T_amb,T_b,A_b):\n",
    "    \n",
    "    qa = transf_calor_geral(h,P,A_tr,k,L,T_amb,T_b)\n",
    "    teta_b = T_b-T_amb\n",
    "    \n",
    "    return qa/(A_b*teta_b*h)\n",
    "\n",
    "def efeciencia (h,P,A_tr,k,L,T_amb,T_b,A_s):\n",
    "    \n",
    "    # A_s precisa ser da superficie como um todo\n",
    "    qa = transf_calor_geral(h,P,A_tr,k,L,T_amb,T_b)\n",
    "    teta_b = T_b-T_amb\n",
    "    \n",
    "    return qa/(A_s*teta_b*h)\n",
    "\n",
    "\n",
    "\n",
    "\n",
    "\n"
   ]
  },
  {
   "cell_type": "markdown",
   "metadata": {},
   "source": [
    "## Definindo valores e constantes"
   ]
  },
  {
   "cell_type": "code",
   "execution_count": 37,
   "metadata": {},
   "outputs": [],
   "source": [
    "# Constantes\n",
    "\n",
    "# Temperatura do ambiente[K]:\n",
    "T_amb = 298\n",
    "\n",
    "# Temperatura da base[K]:\n",
    "T_b = 373\n",
    "\n",
    "# espessura Aleta [m]:\n",
    "t= 2e-3\n",
    "#largura aleta[m]\n",
    "w=24e-3 \n",
    "\n",
    "#Comprimento da aleta [m]:\n",
    "L = 200e-3\n",
    "\n",
    "# h -> coeficiente de convecção térmica [W/m^2K]:\n",
    "h = 25\n",
    "\n",
    "# P -> Perimetro da aleta [m]:\n",
    "P = perimetro_aleta(t,w)\n",
    "\n",
    "# A_tr -> Área tranversal da Aleta [m^2]:\n",
    "A_tr = area_aleta(t,w)\n",
    "\n",
    "# A_b -> Área da base da Aleta [m^2]:\n",
    "A_b = A_tr\n",
    "\n",
    "# A_s -> Área da superfície da Aleta [m^2]:\n",
    "A_s = 2*A_b + A_tr+ 2*t*L\n",
    "\n",
    "# k -> coeficiente de condutividade térmica alumínio [W/mk]:\n",
    "k = 240\n"
   ]
  },
  {
   "cell_type": "markdown",
   "metadata": {},
   "source": [
    "## Item 1 -Temperatura na extremidade e gráfico de distribuição"
   ]
  },
  {
   "cell_type": "code",
   "execution_count": 38,
   "metadata": {},
   "outputs": [
    {
     "data": {
      "image/png": "[encoded data removed]",
      "text/plain": [
       "<Figure size 1080x720 with 1 Axes>"
      ]
     },
     "metadata": {
      "needs_background": "light"
     },
     "output_type": "display_data"
    },
    {
     "name": "stdout",
     "output_type": "stream",
     "text": [
      "\n",
      "\n",
      "\n",
      "\n",
      "A Temperatura da extremidade da aleta, em K : 315.5032088212511 \n",
      "\n",
      "\n",
      "\n",
      "\n"
     ]
    }
   ],
   "source": [
    "# Calculando o array de valores de x=0 a L de temperatura do corpo com a aleta\n",
    "temperaturas = []\n",
    "\n",
    "# Calculando o array de valores X´s\n",
    "comprimento = np.arange(0,L,1e-6)\n",
    "\n",
    "for l in comprimento :\n",
    "    \n",
    "    temperaturas.append(distr_calor_geral(h,P,A_tr,k,L,T_amb,T_b,l))\n",
    "\n",
    "\n",
    "\n",
    "plt.figure(figsize=(15,10))\n",
    "\n",
    "plt.plot([ x*1e3 for x in comprimento ],temperaturas)\n",
    "plt.ylabel(\"Temperatura em K\")\n",
    "plt.xlabel(\"Comprimento da aleta em mm\")\n",
    "\n",
    "\n",
    "\n",
    "plt.show()\n",
    "\n",
    "#Temperatura na extremidade da aleta\n",
    "print(\"\\n\\n\\n\")\n",
    "Tl_last = temperaturas[-1]\n",
    "print(f\"A Temperatura da extremidade da aleta, em K : {Tl_last} \")\n",
    "print(\"\\n\\n\\n\")\n"
   ]
  },
  {
   "cell_type": "markdown",
   "metadata": {},
   "source": [
    "## Item 2,3,4-Taxa de transferência de calor,eficiência e efetividade"
   ]
  },
  {
   "cell_type": "code",
   "execution_count": 39,
   "metadata": {},
   "outputs": [
    {
     "name": "stdout",
     "output_type": "stream",
     "text": [
      "\n",
      "A transferência de calor para a geometria da aleta usada é de : 8.925 W\n",
      "\n",
      "\n",
      "A efetividade para a geometria da aleta usada é de : 99.165 \n",
      "\n",
      "\n",
      "A eficiência para a geometria da aleta usada é de : 504.2 % \n",
      "\n"
     ]
    }
   ],
   "source": [
    "# Calculando a taxa de transferência de calor, a eficiência e a efetividade para a geometria da aleta usada.\n",
    "\n",
    "transfer_de_calor = transf_calor_geral (h,P,A_tr,k,L,T_amb,T_b)\n",
    "efetividade_aleta = efetividade(h,P,A_tr,k,L,T_amb,T_b,A_b)\n",
    "eficiencia_aleta = efeciencia(h,P,A_tr,k,L,T_amb,T_b,A_s)\n",
    "\n",
    "print(f\"\\nA transferência de calor para a geometria da aleta usada é de : {transfer_de_calor:.4} W\\n\")\n",
    "print(f\"\\nA efetividade para a geometria da aleta usada é de : {efetividade_aleta:.5} \\n\")\n",
    "print(f\"\\nA eficiência para a geometria da aleta usada é de : {eficiencia_aleta*100:.4} % \\n\")\n"
   ]
  },
  {
   "cell_type": "markdown",
   "metadata": {},
   "source": [
    "## Item 5-Taxa de transferencia para aleta infinita"
   ]
  },
  {
   "cell_type": "code",
   "execution_count": 40,
   "metadata": {},
   "outputs": [
    {
     "name": "stdout",
     "output_type": "stream",
     "text": [
      "\n",
      "A transferência de calor para a hipótese de aleta infinita é : 9.178 W\n",
      "\n"
     ]
    }
   ],
   "source": [
    "# Assumindo a hipótese da aleta infinita\n",
    "transfer_de_calor_infinita = transf_calor_infinita(h,P,A_tr,k,T_amb,T_b)\n",
    "print(f\"\\nA transferência de calor para a hipótese de aleta infinita é : {transfer_de_calor_infinita:.4} W\\n\")"
   ]
  },
  {
   "cell_type": "markdown",
   "metadata": {},
   "source": [
    "## Item 6-comparacao itens 2 e 5\n"
   ]
  },
  {
   "cell_type": "markdown",
   "metadata": {},
   "source": [
    "### São taxas de transferencia de calor bem próximas,ou seja, o modelo real não se apresenta distante do modelo ideal.Assim ,não houve significativas trocas de calor\n"
   ]
  },
  {
   "cell_type": "markdown",
   "metadata": {},
   "source": [
    "## Item 7-Calculo para que haja medida precisa de taxa de transferencia de calor para aleta infinita\n",
    "\n"
   ]
  },
  {
   "cell_type": "code",
   "execution_count": 41,
   "metadata": {},
   "outputs": [
    {
     "data": {
      "image/png": "[encoded data removed]",
      "text/plain": [
       "<Figure size 1080x720 with 1 Axes>"
      ]
     },
     "metadata": {
      "needs_background": "light"
     },
     "output_type": "display_data"
    },
    {
     "name": "stdout",
     "output_type": "stream",
     "text": [
      "Graficamente da para perceber uma faixa de temperatura ou uma temperatura miníma a qual a taxa de transferencia para aleta infinita é bem precisa.Neste caso a partir de 300 mm há uma medição precisa\n"
     ]
    }
   ],
   "source": [
    "comprimento= list(np.arange(0,5,1e-4))\n",
    "\n",
    "\n",
    "transfer_de_calor_infinita_lista = [transf_calor_geral (h,P,A_tr,k,x,T_amb,T_b) for x in comprimento]\n",
    "\n",
    "plt.figure(figsize=(15,10))\n",
    "\n",
    "plt.plot([ x*1e3 for x in comprimento ],transfer_de_calor_infinita_lista)\n",
    "plt.ylabel(\"Taxa de transferencia de calor\")\n",
    "plt.xlabel(\"Comprimento da aleta em mm\")\n",
    "plt.xlim(0,450)\n",
    "plt.show()\n",
    "\n",
    "print(\"Graficamente da para perceber uma faixa de temperatura ou uma temperatura miníma a qual a taxa de transferencia para aleta infinita é bem precisa.Neste caso a partir de 300 mm há uma medição precisa\")"
   ]
  },
  {
   "cell_type": "markdown",
   "metadata": {},
   "source": [
    "## Questao2"
   ]
  },
  {
   "cell_type": "markdown",
   "metadata": {},
   "source": [
    "## Item1-Modelo de aleta infinita"
   ]
  },
  {
   "cell_type": "markdown",
   "metadata": {},
   "source": [
    "<li> <b>T_inf -temperatura do fluido<b>\n",
    "<li>T_b=temperatura na base da aleta\n",
    "<li>T_1=temperatura 1° aleta em x1\n",
    "<li>T_2=temperatura 2 ° aleta em x1"
   ]
  },
  {
   "cell_type": "markdown",
   "metadata": {},
   "source": [
    "## Calculando razoes das temperaturas"
   ]
  },
  {
   "cell_type": "markdown",
   "metadata": {},
   "source": [
    "<center>$r_1=\\dfrac{T_1-T_inf}{T_b-T_inf} $<center>\n",
    "\n",
    "<center>$r_2=\\dfrac{T_2-T_inf}{T_b-T_inf} $<center>"
   ]
  },
  {
   "cell_type": "markdown",
   "metadata": {},
   "source": [
    "## Calculando m1 e m2 (só a condutividade importa)\n"
   ]
  },
  {
   "cell_type": "markdown",
   "metadata": {},
   "source": [
    "<center>$m1=\\sqrt{\\dfrac{h\\cdot P}{ka\\cdot A}}$<center>\n",
    "\n",
    "<center>$m2=\\sqrt{\\dfrac{h\\cdot P}{kb\\cdot A}}$<center>"
   ]
  },
  {
   "cell_type": "markdown",
   "metadata": {},
   "source": [
    "## Modelo considerando condição de contorno para aleta infinita\n"
   ]
  },
  {
   "cell_type": "markdown",
   "metadata": {},
   "source": [
    "<center>$r_1=e^{-m_1\\cdot x_1} $<center>\n",
    "\n",
    "<center>$r_2=e^{-m_2\\cdot x_1} $<center>"
   ]
  },
  {
   "cell_type": "markdown",
   "metadata": {},
   "source": [
    "## Transformação de exponencial para log"
   ]
  },
  {
   "cell_type": "markdown",
   "metadata": {},
   "source": [
    "\n",
    "<center>$\\dfrac{m1}{m2}=\\dfrac{log(r_1)}{log(r_2)}=r_3 $<center>"
   ]
  },
  {
   "cell_type": "markdown",
   "metadata": {},
   "source": [
    "## Considerando que as condutividades ao quadrado variam com o m"
   ]
  },
  {
   "cell_type": "markdown",
   "metadata": {},
   "source": [
    "<center>$\\dfrac{k_b}{k_a}=r_3^{2} $<center>"
   ]
  },
  {
   "cell_type": "markdown",
   "metadata": {},
   "source": [
    "## Cálculo da condutividade desconhecida"
   ]
  },
  {
   "cell_type": "markdown",
   "metadata": {},
   "source": [
    "<center>$ k_b=k_a\\cdot r_3^{2} $<center>"
   ]
  },
  {
   "cell_type": "markdown",
   "metadata": {},
   "source": [
    "## Item2-Modelo de aleta infinita-Numérico"
   ]
  },
  {
   "cell_type": "code",
   "execution_count": 43,
   "metadata": {},
   "outputs": [
    {
     "name": "stdout",
     "output_type": "stream",
     "text": [
      "a condutividade térmica do elemento desconhecido é :67.92797153154885 W/mK\n"
     ]
    }
   ],
   "source": [
    "#substituindo valores\n",
    "ka=240\n",
    "\n",
    "r3=np.log(50/75)/np.log(35/75)\n",
    "\n",
    "kb=ka*(r3**2)\n",
    "print(f\"a condutividade térmica do elemento desconhecido é :{kb} W/mK\")"
   ]
  },
  {
   "cell_type": "code",
   "execution_count": null,
   "metadata": {},
   "outputs": [],
   "source": []
  }
 ],
 "metadata": {
  "kernelspec": {
   "display_name": "Python 3",
   "language": "python",
   "name": "python3"
  },
  "language_info": {
   "codemirror_mode": {
    "name": "ipython",
    "version": 3
   },
   "file_extension": ".py",
   "mimetype": "text/x-python",
   "name": "python",
   "nbconvert_exporter": "python",
   "pygments_lexer": "ipython3",
   "version": "3.8.5"
  }
 },
 "nbformat": 4,
 "nbformat_minor": 4
}
